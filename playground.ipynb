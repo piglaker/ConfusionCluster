{
 "cells": [
  {
   "cell_type": "code",
   "execution_count": 5,
   "metadata": {},
   "outputs": [],
   "source": [
    "import torch\n",
    "import torch.nn as nn"
   ]
  },
  {
   "cell_type": "code",
   "execution_count": 9,
   "metadata": {},
   "outputs": [],
   "source": [
    "input1 = torch.randn(100, 128)\n",
    "input2 = torch.randn(100, 128)\n",
    "cos = nn.CosineSimilarity(dim=0, eps=1e-6)\n",
    "output = cos(input1, input2)"
   ]
  },
  {
   "cell_type": "code",
   "execution_count": 13,
   "metadata": {},
   "outputs": [],
   "source": [
    "a = cos(torch.tensor([0.0]), torch.tensor([0.0]))"
   ]
  },
  {
   "cell_type": "code",
   "execution_count": 17,
   "metadata": {},
   "outputs": [
    {
     "data": {
      "text/plain": [
       "tensor(0.)"
      ]
     },
     "execution_count": 17,
     "metadata": {},
     "output_type": "execute_result"
    }
   ],
   "source": [
    "torch.mean(torch.tensor([0.0]))"
   ]
  },
  {
   "cell_type": "code",
   "execution_count": 1,
   "metadata": {},
   "outputs": [],
   "source": [
    "from transformers import AutoTokenizer\n",
    "\n",
    "tokenizer_model_name_path=\"hfl/chinese-roberta-wwm-ext\"\n",
    "\n",
    "tokenizer = AutoTokenizer.from_pretrained(tokenizer_model_name_path)\n"
   ]
  },
  {
   "cell_type": "code",
   "execution_count": 18,
   "metadata": {},
   "outputs": [
    {
     "data": {
      "text/plain": [
       "'[MASK]'"
      ]
     },
     "execution_count": 18,
     "metadata": {},
     "output_type": "execute_result"
    }
   ],
   "source": [
    "tokenizer.decode([103])"
   ]
  },
  {
   "cell_type": "code",
   "execution_count": 19,
   "metadata": {},
   "outputs": [],
   "source": [
    "import pickle\n",
    "\n",
    "with open(\"tmp.pkl\", \"rb\") as f:\n",
    "    score = pickle.load(f)\n"
   ]
  },
  {
   "cell_type": "code",
   "execution_count": 31,
   "metadata": {},
   "outputs": [
    {
     "name": "stdout",
     "output_type": "stream",
     "text": [
      "torch.Size([52, 21128])\n"
     ]
    }
   ],
   "source": [
    "print(score.shape)"
   ]
  },
  {
   "cell_type": "code",
   "execution_count": 37,
   "metadata": {},
   "outputs": [],
   "source": [
    "topk3 = score.topk(3, dim=1)[-1]"
   ]
  },
  {
   "cell_type": "code",
   "execution_count": 38,
   "metadata": {},
   "outputs": [
    {
     "data": {
      "text/plain": [
       "tensor([[2769,  511,  872],\n",
       "        [ 872, 2644, 2769],\n",
       "        [1962,  812, 2769],\n",
       "        [ 106,  131,  117],\n",
       "        [2769, 6443, 2218],\n",
       "        [3221, 1373, 4263],\n",
       "        [2476, 2769, 2484],\n",
       "        [4263,  136, 2695],\n",
       "        [3152, 2769,  872],\n",
       "        [ 511, 8013,  117],\n",
       "        [2769,  511,  872],\n",
       "        [ 511, 8013,  106],\n",
       "        [ 511,  106,  136],\n",
       "        [ 511,  106, 8013],\n",
       "        [ 511,  106, 8013],\n",
       "        [ 511, 8013,  106],\n",
       "        [ 511,  106, 8013],\n",
       "        [ 511, 8013,  106],\n",
       "        [ 511, 8013,  106],\n",
       "        [ 511, 8013,  106],\n",
       "        [ 106, 2769,  511],\n",
       "        [ 511, 8013,  106],\n",
       "        [ 511, 8013,  106],\n",
       "        [ 511, 8013,  106],\n",
       "        [ 511, 8013,  106],\n",
       "        [ 511, 8013,  106],\n",
       "        [2769,  872, 6468],\n",
       "        [ 511, 8013,  106],\n",
       "        [2769,  872, 6468],\n",
       "        [ 872, 2769, 6468],\n",
       "        [2769,  872, 6468],\n",
       "        [ 511, 8013,  106],\n",
       "        [2769,  872, 6468],\n",
       "        [ 136,  511,  106],\n",
       "        [ 511,  106, 8013],\n",
       "        [ 511, 8013,  106],\n",
       "        [ 511, 8013,  106],\n",
       "        [ 511, 8013,  106],\n",
       "        [ 511, 8013,  106],\n",
       "        [ 511, 8013,  106],\n",
       "        [ 511, 8013,  106],\n",
       "        [2769,  511,  106],\n",
       "        [ 511, 8013,  106],\n",
       "        [ 511,  106, 8013],\n",
       "        [ 511,  106, 8013],\n",
       "        [2769,  872, 6468],\n",
       "        [ 511, 8013,  106],\n",
       "        [ 511,  106, 8013],\n",
       "        [2769,  872,  106],\n",
       "        [ 106,  511, 8013],\n",
       "        [ 511, 8013,  106],\n",
       "        [2769,  872, 2476]])"
      ]
     },
     "execution_count": 38,
     "metadata": {},
     "output_type": "execute_result"
    }
   ],
   "source": [
    "topk3"
   ]
  }
 ],
 "metadata": {
  "interpreter": {
   "hash": "ecce3fd1629bcba61391e0f572df4e0d9ae2f07d982e7e7455d71f206dfcfd55"
  },
  "kernelspec": {
   "display_name": "Python 3.8.0 ('3090': conda)",
   "language": "python",
   "name": "python3"
  },
  "language_info": {
   "codemirror_mode": {
    "name": "ipython",
    "version": 3
   },
   "file_extension": ".py",
   "mimetype": "text/x-python",
   "name": "python",
   "nbconvert_exporter": "python",
   "pygments_lexer": "ipython3",
   "version": "3.8.11"
  },
  "orig_nbformat": 4
 },
 "nbformat": 4,
 "nbformat_minor": 2
}
