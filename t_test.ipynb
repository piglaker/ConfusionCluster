{
 "cells": [
  {
   "cell_type": "code",
   "execution_count": 9,
   "metadata": {},
   "outputs": [
    {
     "name": "stdout",
     "output_type": "stream",
     "text": [
      "t-stat: -4.52   pval: 0.0457\n"
     ]
    }
   ],
   "source": [
    "# Import numpy and scipy\n",
    "import numpy as np\n",
    "from scipy import stats\n",
    "\n",
    "# Create fake data sample of 30 cans from 2 factories\n",
    "#factory_a = np.full(30, 355) + np.random.normal(0, 3, 30)\n",
    "#factory_b = np.full(30, 353) + np.random.normal(0, 3, 30)\n",
    "\n",
    "factory_a = np.array([75.06, 73.4])\n",
    "\n",
    "factory_b = np.array([78.43, 77.90])\n",
    "\n",
    "# Run a two sample t-test to compare the two samples\n",
    "tstat, pval = stats.ttest_ind(a=factory_a, b=factory_b, alternative=\"two-sided\")\n",
    "\n",
    "# Display results\n",
    "print(\"t-stat: {:.2f}   pval: {:.4f}\".format(tstat, pval))\n",
    "\n",
    "## Output\n",
    "# t-stat: 3.15   pval: 0.0026"
   ]
  },
  {
   "cell_type": "code",
   "execution_count": 4,
   "metadata": {},
   "outputs": [
    {
     "name": "stdout",
     "output_type": "stream",
     "text": [
      "[357.04560757 349.42799081 352.30506868 354.05785691 355.79956388\n",
      " 351.9461099  347.73541941 352.42509455 352.57658508 357.06129307\n",
      " 352.48349569 353.63148697 356.36410487 355.00938874 361.02244163\n",
      " 364.52872758 359.75588616 356.18968868 357.9607092  351.65150057\n",
      " 360.00095749 352.43365646 350.9407985  356.48607241 352.68526291\n",
      " 361.48347141 349.80759103 358.34007488 348.91455473 356.68278224]\n"
     ]
    }
   ],
   "source": [
    "print(factory_a)"
   ]
  }
 ],
 "metadata": {
  "kernelspec": {
   "display_name": "Python 3.8.11 ('115': conda)",
   "language": "python",
   "name": "python3"
  },
  "language_info": {
   "codemirror_mode": {
    "name": "ipython",
    "version": 3
   },
   "file_extension": ".py",
   "mimetype": "text/x-python",
   "name": "python",
   "nbconvert_exporter": "python",
   "pygments_lexer": "ipython3",
   "version": "3.8.11"
  },
  "orig_nbformat": 4,
  "vscode": {
   "interpreter": {
    "hash": "90bb92497ec70e1ac59ff7125de72f80cb7d571a10b970670d76fc816afd7bfb"
   }
  }
 },
 "nbformat": 4,
 "nbformat_minor": 2
}
